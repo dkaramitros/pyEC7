{
 "cells": [
  {
   "cell_type": "markdown",
   "metadata": {},
   "source": [
    "# Abutment Design"
   ]
  },
  {
   "cell_type": "code",
   "execution_count": 74,
   "metadata": {},
   "outputs": [
    {
     "name": "stdout",
     "output_type": "stream",
     "text": [
      "The autoreload extension is already loaded. To reload it, use:\n",
      "  %reload_ext autoreload\n"
     ]
    }
   ],
   "source": [
    "# Library Dependencies\n",
    "%load_ext autoreload\n",
    "%autoreload 2\n",
    "import pyec7\n",
    "import numpy as np\n",
    "from scipy.integrate import trapz\n",
    "import matplotlib.pyplot as plt"
   ]
  },
  {
   "cell_type": "markdown",
   "metadata": {},
   "source": [
    "## Geomety"
   ]
  },
  {
   "cell_type": "code",
   "execution_count": 75,
   "metadata": {},
   "outputs": [],
   "source": [
    "# Abutment Geometry\n",
    "toe_thickness = 1.50 # at the edge\n",
    "toe_width = 1.65\n",
    "toe_inclination = 0 # compared to horizontal (degrees)\n",
    "stemwall_thickness = 1.20  # at the base\n",
    "stemwall_height_front = 3.30\n",
    "stemwall_height_rear = 0.50\n",
    "stemwall_inclination_front = 0 # compared to vertical (degrees)\n",
    "stemwall_inclination_rear = 0 # compared to vertical (degrees)\n",
    "bearing_shelf = 2.00\n",
    "backwall_thickness = 0.50\n",
    "backwall_height_front = 2.20\n",
    "backwall_height_rear = 2.50\n",
    "heel_thickness = 1.50 # at the edge\n",
    "heel_width = 2.65\n",
    "heel_inclination = 0 # compared to horizontal (degrees)\n",
    "\n",
    "# Bearing Location\n",
    "bearing_point = 0.5*bearing_shelf\n",
    "\n",
    "# Soil Geometry\n",
    "toefill_thickness = 0.50 # at the wall\n",
    "toefill_inclination = 0 # compared to horizontal (degrees)\n",
    "backfill_inclination = 0 # compared to horizontal (degrees)"
   ]
  },
  {
   "cell_type": "code",
   "execution_count": 78,
   "metadata": {},
   "outputs": [
    {
     "data": {
      "image/png": "[encoded data removed]",
      "text/plain": [
       "<Figure size 640x480 with 1 Axes>"
      ]
     },
     "metadata": {},
     "output_type": "display_data"
    },
    {
     "name": "stdout",
     "output_type": "stream",
     "text": [
      "Wall:\n",
      " [[0.   0.  ]\n",
      " [0.   1.5 ]\n",
      " [1.65 1.5 ]\n",
      " [1.65 4.8 ]\n",
      " [3.65 4.8 ]\n",
      " [3.65 7.  ]\n",
      " [4.15 7.  ]\n",
      " [4.15 4.5 ]\n",
      " [2.85 2.  ]\n",
      " [2.85 1.5 ]\n",
      " [5.5  1.5 ]\n",
      " [5.5  0.  ]\n",
      " [0.   0.  ]]\n",
      "\n",
      "Toe fill:\n",
      " [[0.   1.5 ]\n",
      " [0.   2.  ]\n",
      " [1.65 2.  ]\n",
      " [1.65 1.5 ]\n",
      " [0.   1.5 ]]\n",
      "\n",
      "Backfill:\n",
      " [[2.85 1.5 ]\n",
      " [2.85 2.  ]\n",
      " [4.15 4.5 ]\n",
      " [4.15 7.  ]\n",
      " [5.5  7.  ]\n",
      " [5.5  1.5 ]\n",
      " [2.85 1.5 ]]\n",
      "\n",
      "Bearing:\n",
      " [2.65 4.8 ]\n",
      "\n",
      "Toe load:\n",
      " [[0.   2.  ]\n",
      " [1.65 2.  ]]\n",
      "\n",
      "Back load:\n",
      " [[3.65 7.  ]\n",
      " [5.5  7.  ]]\n"
     ]
    }
   ],
   "source": [
    "# Geometry computations\n",
    "\n",
    "# Abutment\n",
    "footing_width = toe_width + stemwall_thickness + heel_width\n",
    "abutment_dcoord1 = np.array([\n",
    "    [0, toe_thickness],\n",
    "    [toe_width, toe_width*np.tan(np.deg2rad(toe_inclination))],\n",
    "    [stemwall_height_front*np.tan(np.deg2rad(stemwall_inclination_front)), stemwall_height_front],\n",
    "    [bearing_shelf, 0],\n",
    "    [0, backwall_height_front],\n",
    "    [backwall_thickness, backwall_thickness*np.tan(np.deg2rad(backfill_inclination))],\n",
    "    [0, -backwall_height_rear]\n",
    "])\n",
    "abutment_dcoord2 = np.array([\n",
    "    [footing_width, 0],\n",
    "    [0, heel_thickness],\n",
    "    [-heel_width, heel_thickness*np.tan(np.deg2rad(heel_inclination))],\n",
    "    [-stemwall_height_rear*np.tan(np.deg2rad(stemwall_inclination_rear)), stemwall_height_rear]\n",
    "])\n",
    "abutment_coord = np.vstack([\n",
    "    [0,0],\n",
    "    np.cumsum(abutment_dcoord1, axis=0),\n",
    "    np.cumsum(abutment_dcoord2, axis=0)[::-1],\n",
    "    [0,0]\n",
    "])\n",
    "\n",
    "# Toe\n",
    "toefill_dcoord = np.array([\n",
    "    [0,toe_thickness],\n",
    "    [toe_width, toe_width*np.tan(np.deg2rad(toe_inclination))],\n",
    "    [toefill_thickness*np.tan(np.deg2rad(stemwall_inclination_front)), toefill_thickness],\n",
    "    [-toe_width-toefill_thickness*np.tan(np.deg2rad(stemwall_inclination_front)),\n",
    "        (toe_width+toefill_thickness*np.tan(np.deg2rad(stemwall_inclination_front)))*np.tan(np.deg2rad(toefill_inclination))],\n",
    "])\n",
    "toefill_coord = np.vstack([\n",
    "    [0,toe_thickness],\n",
    "    np.cumsum(toefill_dcoord, axis=0)[::-1]\n",
    "])\n",
    "toefill_height = toefill_coord[1,1]\n",
    "\n",
    "# Backfill\n",
    "backfill_width = footing_width - abutment_coord[6,0]\n",
    "backfill_height = abutment_coord[6,1] + backfill_width*np.tan(np.deg2rad(backfill_inclination))\n",
    "backfill_coord = np.vstack([\n",
    "    abutment_coord[6:10][::-1],\n",
    "    [footing_width,backfill_height],\n",
    "    abutment_coord[9:11][::-1],\n",
    "])\n",
    "\n",
    "# Loads\n",
    "bearing_coord = abutment_coord[3] + [bearing_point,0]\n",
    "toeload_coord = np.vstack([\n",
    "    toefill_coord[1],\n",
    "    toefill_coord[2]\n",
    "])\n",
    "backload_coord = np.vstack([\n",
    "    abutment_coord[5],\n",
    "    backfill_coord[4]\n",
    "])\n",
    "\n",
    "# Plot\n",
    "plt.plot(abutment_coord[:,0], abutment_coord[:,1], 'k-')\n",
    "plt.fill(abutment_coord[:,0], abutment_coord[:,1], color='lightgray')\n",
    "plt.plot(toefill_coord[:,0], toefill_coord[:,1], 'k-')\n",
    "plt.fill(toefill_coord[:,0], toefill_coord[:,1], color='tan')\n",
    "plt.plot(backfill_coord[:,0], backfill_coord[:,1], 'k-')\n",
    "plt.fill(backfill_coord[:,0], backfill_coord[:,1], color='tan')\n",
    "plt.plot(bearing_coord[0], bearing_coord[1], 'ro')\n",
    "plt.plot(toeload_coord[:,0], toeload_coord[:,1], 'r--')\n",
    "plt.plot(backload_coord[:,0], backload_coord[:,1], 'r--')\n",
    "plt.axis('equal')\n",
    "plt.xlabel('x (m)')\n",
    "plt.ylabel('y (m)')\n",
    "plt.title('Abutment Cross-Section')\n",
    "plt.show()\n",
    "\n",
    "# Print\n",
    "print(\"Wall:\\n\",abutment_coord)\n",
    "print(\"\\nToe fill:\\n\",toefill_coord)\n",
    "print(\"\\nBackfill:\\n\",backfill_coord)\n",
    "print(\"\\nBearing:\\n\",bearing_coord)\n",
    "print(\"\\nToe load:\\n\",toeload_coord)\n",
    "print(\"\\nBack load:\\n\",backload_coord)"
   ]
  },
  {
   "cell_type": "markdown",
   "metadata": {},
   "source": [
    "## Weights"
   ]
  },
  {
   "cell_type": "code",
   "execution_count": null,
   "metadata": {},
   "outputs": [],
   "source": [
    "# Unit Weights\n",
    "gamma_c = 25\n",
    "gamma_f = 18\n",
    "\n",
    "# Loads\n",
    "q_toe = 2\n",
    "q_backfill = 5\n",
    "P_bearing = 500"
   ]
  },
  {
   "cell_type": "code",
   "execution_count": 51,
   "metadata": {},
   "outputs": [
    {
     "name": "stdout",
     "output_type": "stream",
     "text": [
      "Abutment:\n",
      "W_a = 383.125 kN\n",
      "x_a = 2.733034257748777 m\n",
      "\n",
      "Toe Fill:\n",
      "W_tf = 14.850000000000003 kN\n",
      "x_tf = 0.8249999999999998 m\n",
      "\n",
      "Backill:\n",
      "W_bf = 246.14999999999995 kN\n",
      "x_bf = 4.492870201096894 m\n",
      "\n",
      "Toe Load:\n",
      "F_tl = 3.3 kN\n",
      "x_tl = 0.825 m\n",
      "\n",
      "Backfill Load:\n",
      "F_bl = 9.25 kN\n",
      "x_bl = 4.575 m\n",
      "\n",
      "Bearing Load:\n",
      "P_b = 9.25 kN\n",
      "x_b = 2.65 m\n"
     ]
    }
   ],
   "source": [
    "# Load computations\n",
    "\n",
    "# Abutment\n",
    "abutment_area = trapz(abutment_coord[:,1],abutment_coord[:,0])\n",
    "abutment_moment = trapz(abutment_coord[:,0]*abutment_coord[:,1],abutment_coord[:,0])\n",
    "W_a = gamma_c * abutment_area\n",
    "M_a = gamma_c * abutment_moment\n",
    "x_a = M_a / W_a\n",
    "print(\"Abutment:\\nW_a =\",W_a,\"kN\\nx_a =\",x_a,\"m\")\n",
    "\n",
    "# Toe Fill\n",
    "toefill_area = trapz(toefill_coord[:,1],toefill_coord[:,0])\n",
    "toefill_moment = trapz(toefill_coord[:,0]*toefill_coord[:,1],toefill_coord[:,0])\n",
    "W_tf = gamma_f * toefill_area\n",
    "M_tf = gamma_f * toefill_moment\n",
    "x_tf = M_tf / W_tf\n",
    "print(\"\\nToe Fill:\\nW_tf =\",W_tf,\"kN\\nx_tf =\",x_tf,\"m\")\n",
    "\n",
    "# Backfill\n",
    "backfill_area = trapz(backfill_coord[:,1],backfill_coord[:,0])\n",
    "backfill_moment = trapz(backfill_coord[:,0]*backfill_coord[:,1],backfill_coord[:,0])\n",
    "W_bf = gamma_f * backfill_area\n",
    "M_bf = gamma_f * backfill_moment\n",
    "x_bf = M_bf / W_bf\n",
    "print(\"\\nBackill:\\nW_bf =\",W_bf,\"kN\\nx_bf =\",x_bf,\"m\")\n",
    "\n",
    "# Toe Load\n",
    "F_tl = q_toe * (toeload_coord[1,0] - toeload_coord[0,0])\n",
    "x_tl = 0.5 * (toeload_coord[1,0] + toeload_coord[0,0])\n",
    "M_tl = F_tl * x_tl\n",
    "print(\"\\nToe Load:\\nF_tl =\",F_tl,\"kN\\nx_tl =\",x_tl,\"m\")\n",
    "\n",
    "# Backfill Load\n",
    "F_bl = q_backfill * (backload_coord[1,0] - backload_coord[0,0])\n",
    "x_bl = 0.5 * (backload_coord[1,0] + backload_coord[0,0])\n",
    "M_bl = F_bl * x_bl\n",
    "print(\"\\nBackfill Load:\\nF_bl =\",F_bl,\"kN\\nx_bl =\",x_bl,\"m\")\n",
    "\n",
    "# Bearing Load\n",
    "P_b = P_bearing\n",
    "M_b = P_bearing * bearing_coord[0]\n",
    "x_b = M_b / P_b\n",
    "print(\"\\nBearing Load:\\nP_b =\",F_bl,\"kN\\nx_b =\",x_b,\"m\")"
   ]
  },
  {
   "cell_type": "markdown",
   "metadata": {},
   "source": [
    "## Soil Parameters"
   ]
  },
  {
   "cell_type": "code",
   "execution_count": 52,
   "metadata": {},
   "outputs": [],
   "source": [
    "# Fill\n",
    "phi_f = 32\n",
    "coh_f = 0\n",
    "\n",
    "# Subsoil\n",
    "gamma_s = 20\n",
    "phi_s = 0\n",
    "coh_s = 150"
   ]
  },
  {
   "cell_type": "markdown",
   "metadata": {},
   "source": [
    "## Geotechnical Computations"
   ]
  },
  {
   "cell_type": "code",
   "execution_count": 53,
   "metadata": {},
   "outputs": [
    {
     "name": "stdout",
     "output_type": "stream",
     "text": [
      "Active Pressures:\n",
      "Input parameters:\n",
      "phi = 32 deg\n",
      "c = 0 kPa\n",
      "a = 0.0 kPa\n",
      "delta = 0 deg\n",
      "beta = 0 deg\n",
      "theta = 0 deg\n",
      "q = 5 kPa\n",
      "p = 5.0 kPa\n",
      "\n",
      "Boundary conditions:\n",
      "mw = 61.0 deg\n",
      "v = 0.0 deg\n",
      "mt = 61.0 deg\n",
      "\n",
      "Coefficients:\n",
      "Kn = 0.3072585245224685\n",
      "Kq = 0.3072585245224685\n",
      "Kc = 1.1086181029055378\n",
      "Kg = 0.3072585245224685\n",
      "\n",
      "Results:\n",
      "F_a = 135.5010093144086 \n",
      "y_a = 2.3333333333333335\n",
      "\n",
      "\n",
      "Passive Pressures:\n",
      "Input parameters:\n",
      "phi = 32 deg\n",
      "c = 0 kPa\n",
      "a = 0.0 kPa\n",
      "delta = 0 deg\n",
      "beta = 0 deg\n",
      "theta = 0 deg\n",
      "q = 5 kPa\n",
      "p = 5.0 kPa\n",
      "\n",
      "Boundary conditions:\n",
      "mw = 29.000000000000004 deg\n",
      "v = 0.0 deg\n",
      "mt = 29.000000000000004 deg\n",
      "\n",
      "Coefficients:\n",
      "Kn = 3.254588303299863\n",
      "Kq = 3.254588303299863\n",
      "Kc = 3.608095510542847\n",
      "Kg = 3.254588303299863\n",
      "\n",
      "Results:\n",
      "F_p = 117.16517891879506 \n",
      "y_p = 0.6666666666666666\n"
     ]
    }
   ],
   "source": [
    "# Earth Pressure Computations\n",
    "\n",
    "# Active\n",
    "print(\"Active Pressures:\")\n",
    "Ka = pyec7.earth_pressures( friction=phi_f, cohesion=coh_f,\n",
    "    delta=0, beta=backfill_inclination, theta=0, active=True,\n",
    "    surcharge=q_backfill, inclination=0,\n",
    "    log=True )\n",
    "F_a = 0.5 * Ka[3] * gamma_f * backfill_height**2\n",
    "y_a = backfill_height / 3\n",
    "M_a = F_a * y_a\n",
    "print(\"\\nResults:\\nF_a =\", F_a, \"\\ny_a =\", y_a)\n",
    "\n",
    "# Passive\n",
    "print(\"\\n\\nPassive Pressures:\")\n",
    "Kp = pyec7.earth_pressures( friction=phi_f, cohesion=coh_f,\n",
    "    delta=0, beta=backfill_inclination, theta=0, active=False,\n",
    "    surcharge=q_backfill, inclination=0,\n",
    "    log=True )\n",
    "F_p = 0.5 * Kp[3] * gamma_f * toefill_height**2\n",
    "y_p = toefill_height / 3\n",
    "M_p = F_p * y_p\n",
    "print(\"\\nResults:\\nF_p =\", F_p, \"\\ny_p =\", y_p)"
   ]
  },
  {
   "cell_type": "code",
   "execution_count": null,
   "metadata": {},
   "outputs": [
    {
     "name": "stdout",
     "output_type": "stream",
     "text": [
      "Total Vertical Load (V): 1638.3937500000002 kN\n",
      "Total Horizontal Load (H): 182.92636257445162 kN\n",
      "Moment at the base of the abutment (M): -2332.512092393233 kNm\n"
     ]
    }
   ],
   "source": [
    "# Total Load Computations\n",
    "# Safety Factors\n",
    "gamma_G = 1.35\n",
    "gamma_Q = 1.50\n",
    "gamma_R = 1.40\n",
    "\n",
    "# Total Vertical Load\n",
    "V = gamma_G * (W_a + W_bf + W_tf) + gamma_Q * (F_bl + F_tl) + gamma_Q * P_b\n",
    "\n",
    "# Total Horizontal Load\n",
    "H = gamma_G * F_a\n",
    "\n",
    "# Moment at the base of the abutment\n",
    "M = gamma_G * M_a - 1.0 * (M_a + M_bf + M_tf) - 0.0 * (M_bl + M_tl) - 1.0 * M_b\n",
    "\n",
    "print(f\"Total Vertical Load (V): {V} kN\")\n",
    "print(f\"Total Horizontal Load (H): {H} kN\")\n",
    "print(f\"Moment at the base of the abutment (M): {M} kNm\")"
   ]
  },
  {
   "cell_type": "code",
   "execution_count": 55,
   "metadata": {},
   "outputs": [
    {
     "name": "stdout",
     "output_type": "stream",
     "text": [
      "Geometry:\n",
      "B = 5.5 m\n",
      "L = 0 m\n",
      "D = 2.0 m\n",
      "a = 0 deg\n",
      "\n",
      "Soil Properties:\n",
      "gamma = 20 kN/m3\n",
      "phi = 0 deg\n",
      "c = 150 kPa\n",
      "\n",
      "Loading:\n",
      "V = 1638.3937500000002 kN\n",
      "HB = 182.92636257445162 kN\n",
      "HL = 0 kN\n",
      "H = 182.92636257445162 kN\n",
      "MB = 2332.512092393233 kNm\n",
      "ML = 0 kNm\n",
      "q = 42.0 kPa\n",
      "\n",
      "Effective Dimensions:\n",
      "eB = 1.423657830965989 m\n",
      "eL = 0.0 m\n",
      "Be = 2.652684338068022 m\n",
      "Le = 0.0 m\n",
      "Ae = 2.652684338068022 m2\n",
      "\n",
      "Bearing Capacity Factors:\n",
      "Nq = 0.9999999999999998\n",
      "Nc = 5.141592653589793\n",
      "Ng = -0.0\n",
      "\n",
      "Inclination Factors:\n",
      "bq = 1.0\n",
      "bc = 1.0\n",
      "bg = 1.0\n",
      "\n",
      "Shape Factors:\n",
      "sq = 1\n",
      "sc = 1\n",
      "sg = 1\n",
      "\n",
      "Load Inclination Factors:\n",
      "iq = 1\n",
      "ic = 0.8675165221944039\n",
      "ig = 1\n",
      "\n",
      "Results:\n",
      "qu = 711.0624866073771 kPa\n",
      "R = 1886.2243216110917 kN\n"
     ]
    },
    {
     "data": {
      "text/plain": [
       "1886.2243216110917"
      ]
     },
     "execution_count": 55,
     "metadata": {},
     "output_type": "execute_result"
    }
   ],
   "source": [
    "# Bearing capacity computations\n",
    "pyec7.bearing_resistance( width=footing_width, length=0,\n",
    "    embedment=toefill_height, inclination=0,\n",
    "    unit_weight=gamma_s, friction=phi_s, cohesion=coh_s,\n",
    "    vertical=V,\n",
    "    horizontal=H, moment=M,\n",
    "    surcharge=q_toe,\n",
    "    log=True,)"
   ]
  },
  {
   "cell_type": "markdown",
   "metadata": {},
   "source": [
    "# Design"
   ]
  },
  {
   "cell_type": "code",
   "execution_count": null,
   "metadata": {},
   "outputs": [],
   "source": [
    "print()"
   ]
  },
  {
   "cell_type": "markdown",
   "metadata": {},
   "source": [
    "## Stiffness"
   ]
  },
  {
   "cell_type": "code",
   "execution_count": 70,
   "metadata": {},
   "outputs": [
    {
     "name": "stdout",
     "output_type": "stream",
     "text": [
      "Soil Properties:\n",
      "su = 150 kPa\n",
      "Gmax = 225000 kPa\n",
      "G = 150000.0 kPa\n",
      "Vs = 271.2471198003769 m/s\n",
      "nu = 0.45\n",
      "\n",
      "Footing Properties:\n",
      "B = 2.75 m\n",
      "D = 2.0 m\n",
      "d = 1.5 m\n",
      "\n",
      "Vibration Frequency:\n",
      "f = 0 Hz\n",
      "ao = 0.0\n"
     ]
    }
   ],
   "source": [
    "# Soil Properties\n",
    "su = coh_s\n",
    "Gmax = 1500 * su\n",
    "G = (2/3) * Gmax\n",
    "g = 9.81\n",
    "rho = gamma_s/g\n",
    "Vs = np.sqrt(G/rho)\n",
    "nu = 0.45\n",
    "print(\"Soil Properties:\")\n",
    "print(\"su =\", su, \"kPa\")\n",
    "print(\"Gmax =\", Gmax, \"kPa\")\n",
    "print(\"G =\", G, \"kPa\")\n",
    "print(\"Vs =\", Vs, \"m/s\")\n",
    "print(\"nu =\", nu)\n",
    "\n",
    "# Footing Properties\n",
    "B = 0.5 * footing_width\n",
    "D = toefill_height\n",
    "d = toe_thickness\n",
    "print(\"\\nFooting Properties:\")\n",
    "print(\"B =\", B, \"m\")\n",
    "print(\"D =\", D, \"m\")\n",
    "print(\"d =\", d, \"m\")\n",
    "\n",
    "# Frequency\n",
    "print(\"\\nVibration Frequency:\")\n",
    "f = 0\n",
    "omega = 2 * np.pi * f\n",
    "ao = omega*B/Vs\n",
    "print(\"f =\", f, \"Hz\")\n",
    "print(\"ao =\", ao)"
   ]
  },
  {
   "cell_type": "code",
   "execution_count": 71,
   "metadata": {},
   "outputs": [
    {
     "name": "stdout",
     "output_type": "stream",
     "text": [
      "Krx_surf =  3239767.424014474 kNm/m/rad\n",
      "krx_embed =  1.6872727272727275\n",
      "krx_dyn =  1.0\n",
      "Krx_dyn =  5466371.21724624 kNm/m/rad\n"
     ]
    }
   ],
   "source": [
    "# Rotational Stiffness\n",
    "\n",
    "# Surface\n",
    "Krx_surf = (np.pi/2) * G*B**2 / (1-nu) # Gazetas (1991) - Table 15.3\n",
    "# The above coefficient is 1.57, compared to 1.49 in Table 15.1, and 1.60 in Pais & Kausel (1988)\n",
    "print(\"Krx_surf = \", Krx_surf, \"kNm/m/rad\")\n",
    "\n",
    "# Embedment Depth Correction Factor\n",
    "krx_embed = 1 + 1.26 * d/B # Gazertas (1991) - Table 15.2\n",
    "# The above coefficient in Pais & Kausel (1988) is 1.0, but D/B is used.\n",
    "print(\"krx_embed = \", krx_embed)\n",
    "\n",
    "# Dynamic Stiffness Coefficient\n",
    "krx_dyn = 1-0.2*ao # Gazetas (1991) - Table 15.1\n",
    "print(\"krx_dyn = \", krx_dyn)\n",
    "\n",
    "# Dynamic Stiffness\n",
    "Krx_dyn = krx_embed * krx_dyn * Krx_surf\n",
    "print(\"Krx_dyn = \", Krx_dyn, \"kNm/m/rad\")"
   ]
  }
 ],
 "metadata": {
  "kernelspec": {
   "display_name": "base",
   "language": "python",
   "name": "python3"
  },
  "language_info": {
   "codemirror_mode": {
    "name": "ipython",
    "version": 3
   },
   "file_extension": ".py",
   "mimetype": "text/x-python",
   "name": "python",
   "nbconvert_exporter": "python",
   "pygments_lexer": "ipython3",
   "version": "3.10.9"
  }
 },
 "nbformat": 4,
 "nbformat_minor": 2
}
