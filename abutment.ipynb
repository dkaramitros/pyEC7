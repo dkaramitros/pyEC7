{
 "cells": [
  {
   "cell_type": "markdown",
   "metadata": {},
   "source": [
    "# Bridge Abutment"
   ]
  },
  {
   "cell_type": "code",
   "execution_count": 1,
   "metadata": {},
   "outputs": [],
   "source": [
    "# Library Dependencies\n",
    "%load_ext autoreload\n",
    "%autoreload 2\n",
    "import pyec7\n",
    "import numpy as np\n",
    "from scipy.integrate import trapz\n",
    "import matplotlib.pyplot as plt"
   ]
  },
  {
   "cell_type": "markdown",
   "metadata": {},
   "source": [
    "## Geomety"
   ]
  },
  {
   "cell_type": "code",
   "execution_count": 2,
   "metadata": {},
   "outputs": [],
   "source": [
    "# Abutment Geometry\n",
    "toe_thickness = 1.50 # at the edge\n",
    "toe_width = 1.65\n",
    "toe_inclination = 0 # compared to horizontal (degrees)\n",
    "stemwall_thickness = 1.20  # at the base\n",
    "stemwall_height_front = 3.30\n",
    "stemwall_height_rear = 0.50\n",
    "stemwall_inclination_front = 0 # compared to vertical (degrees)\n",
    "stemwall_inclination_rear = 0 # compared to vertical (degrees)\n",
    "bearing_shelf = 2.00\n",
    "backwall_thickness = 0.50\n",
    "backwall_height_front = 2.20\n",
    "backwall_height_rear = 2.50\n",
    "heel_thickness = 1.50 # at the edge\n",
    "heel_width = 2.65\n",
    "heel_inclination = 0 # compared to horizontal (degrees)\n",
    "\n",
    "# Bearing Location\n",
    "bearing_point = 0.5*stemwall_thickness\n",
    "\n",
    "# Soil Geometry\n",
    "toefill_thickness = 0.50 # at the wall\n",
    "toefill_inclination = 0 # compared to horizontal (degrees)\n",
    "backfill_inclination = 0 # compared to horizontal (degrees)"
   ]
  },
  {
   "cell_type": "code",
   "execution_count": 3,
   "metadata": {},
   "outputs": [
    {
     "data": {
      "image/png": "[encoded data removed]",
      "text/plain": [
       "<Figure size 640x480 with 1 Axes>"
      ]
     },
     "metadata": {},
     "output_type": "display_data"
    }
   ],
   "source": [
    "# Geometry computations\n",
    "\n",
    "# Abutment\n",
    "footing_width = toe_width + stemwall_thickness + heel_width\n",
    "wall_dcoord1 = np.array([\n",
    "    [0, toe_thickness],\n",
    "    [toe_width, toe_width*np.tan(np.deg2rad(toe_inclination))],\n",
    "    [stemwall_height_front*np.tan(np.deg2rad(stemwall_inclination_front)), stemwall_height_front],\n",
    "    [bearing_shelf, 0],\n",
    "    [0, backwall_height_front],\n",
    "    [backwall_thickness, backwall_thickness*np.tan(np.deg2rad(backfill_inclination))],\n",
    "    [0, -backwall_height_rear]\n",
    "])\n",
    "wall_dcoord2 = np.array([\n",
    "    [footing_width, 0],\n",
    "    [0, heel_thickness],\n",
    "    [-heel_width, heel_thickness*np.tan(np.deg2rad(heel_inclination))],\n",
    "    [-stemwall_height_rear*np.tan(np.deg2rad(stemwall_inclination_rear)), stemwall_height_rear]\n",
    "])\n",
    "wall_coord = np.vstack([\n",
    "    [0,0],\n",
    "    np.cumsum(wall_dcoord1, axis=0),\n",
    "    np.cumsum(wall_dcoord2, axis=0)[::-1],\n",
    "    [0,0]\n",
    "])\n",
    "\n",
    "# Toe\n",
    "toefill_dcoord = np.array([\n",
    "    [0,toe_thickness],\n",
    "    [toe_width, toe_width*np.tan(np.deg2rad(toe_inclination))],\n",
    "    [toefill_thickness*np.tan(np.deg2rad(stemwall_inclination_front)), toefill_thickness],\n",
    "    [-toe_width-toefill_thickness*np.tan(np.deg2rad(stemwall_inclination_front)),\n",
    "        (toe_width+toefill_thickness*np.tan(np.deg2rad(stemwall_inclination_front)))*np.tan(np.deg2rad(toefill_inclination))],\n",
    "])\n",
    "toefill_coord = np.vstack([\n",
    "    [0,toe_thickness],\n",
    "    np.cumsum(toefill_dcoord, axis=0)[::-1]\n",
    "])\n",
    "toefill_height = toefill_coord[1,1]\n",
    "\n",
    "# Backfill\n",
    "backfill_width = footing_width - wall_coord[6,0]\n",
    "backfill_height = wall_coord[6,1] + backfill_width*np.tan(np.deg2rad(backfill_inclination))\n",
    "backfill_coord = np.vstack([\n",
    "    wall_coord[6:10][::-1],\n",
    "    [footing_width,backfill_height],\n",
    "    wall_coord[9:11][::-1],\n",
    "])\n",
    "\n",
    "# Loads\n",
    "bearing_coord = wall_coord[3] + [bearing_point,0]\n",
    "toeload_coord = np.vstack([\n",
    "    toefill_coord[1],\n",
    "    toefill_coord[2]\n",
    "])\n",
    "backload_coord = np.vstack([\n",
    "    wall_coord[5],\n",
    "    backfill_coord[4]\n",
    "])\n",
    "\n",
    "# Plot\n",
    "plt.plot(wall_coord[:,0], wall_coord[:,1], 'k-')\n",
    "plt.fill(wall_coord[:,0], wall_coord[:,1], color='lightgray')\n",
    "plt.plot(toefill_coord[:,0], toefill_coord[:,1], 'k-')\n",
    "plt.fill(toefill_coord[:,0], toefill_coord[:,1], color='tan')\n",
    "plt.plot(backfill_coord[:,0], backfill_coord[:,1], 'k-')\n",
    "plt.fill(backfill_coord[:,0], backfill_coord[:,1], color='tan')\n",
    "plt.plot(bearing_coord[0], bearing_coord[1], 'ro')\n",
    "plt.plot(toeload_coord[:,0], toeload_coord[:,1], 'r--')\n",
    "plt.plot(backload_coord[:,0], backload_coord[:,1], 'r--')\n",
    "plt.axis('equal')\n",
    "plt.xlabel('x (m)')\n",
    "plt.ylabel('y (m)')\n",
    "plt.title('Abutment Cross-Section')\n",
    "plt.show()\n",
    "\n",
    "# Print\n",
    "# print(\"Wall:\\n\",wall_coord)\n",
    "# print(\"\\nToe fill:\\n\",toefill_coord)\n",
    "# print(\"\\nBackfill:\\n\",backfill_coord)\n",
    "# print(\"\\nBearing:\\n\",bearing_coord)\n",
    "# print(\"\\nToe load:\\n\",toeload_coord)\n",
    "# print(\"\\nBack load:\\n\",backload_coord)"
   ]
  },
  {
   "cell_type": "markdown",
   "metadata": {},
   "source": [
    "## Loads"
   ]
  },
  {
   "cell_type": "code",
   "execution_count": 4,
   "metadata": {},
   "outputs": [],
   "source": [
    "# Safety Factors\n",
    "gamma_Gu = 1.35\n",
    "gamma_Qu = 1.50\n",
    "gamma_Gf = 1.00\n",
    "gamma_Qf = 0.00\n",
    "gamma_Rh = 1.10\n",
    "gamma_Rv = 1.40"
   ]
  },
  {
   "cell_type": "code",
   "execution_count": 5,
   "metadata": {},
   "outputs": [],
   "source": [
    "# Gravity Loads (kN/m3)\n",
    "gamma_c = 25\n",
    "gamma_f = 18"
   ]
  },
  {
   "cell_type": "code",
   "execution_count": 6,
   "metadata": {},
   "outputs": [],
   "source": [
    "# Surcharges (kN/m2)\n",
    "q_toe = 2\n",
    "q_backfill = 5\n",
    "P_bearing = 1000"
   ]
  },
  {
   "cell_type": "code",
   "execution_count": 7,
   "metadata": {},
   "outputs": [
    {
     "name": "stdout",
     "output_type": "stream",
     "text": [
      "Wall:\n",
      "W_w = 383.1 kN/m\n",
      "N_w,d = 517.2 kN/m\n",
      "M_w,d = 1414 kNm/m\n",
      "N_w,k = 383.1 kN/m\n",
      "M_w,k = 1047 kNm/m\n",
      "x_w = 2.733 m\n",
      "\n",
      "Toe Fill:\n",
      "W_tf = 14.85 kN/m\n",
      "N_tf,d = 20.05 kN/m\n",
      "M_tf,d = 16.54 kNm/m\n",
      "N_tf,k = 14.85 kN/m\n",
      "M_tf,k = 12.25 kNm/m\n",
      "x_tf = 0.825 m\n",
      "\n",
      "Backill:\n",
      "W_bf = 174.6 kN/m\n",
      "N_bf,d = 235.7 kN/m\n",
      "M_bf,d = 1090 kNm/m\n",
      "N_bf,k = 174.6 kN/m\n",
      "M_bf,k = 807.2 kNm/m\n",
      "x_bf = 4.623 m\n",
      "\n",
      "Toe Load:\n",
      "F_tl = 3.3 kN/m\n",
      "N_tl,d = 4.95 kN/m\n",
      "M_tl,d = 4.084 kNm/m\n",
      "N_tl,k = 0 kN/m\n",
      "M_tl,k = 0 kNm/m\n",
      "x_tl = 0.825 m\n",
      "\n",
      "Backfill Load:\n",
      "F_bl = 9.25 kN/m\n",
      "N_bl,d = 13.88 kN/m\n",
      "M_bl,d = 63.48 kNm/m\n",
      "N_bl,k = 0 kN/m\n",
      "M_bl,k = 0 kNm/m\n",
      "x_bl = 4.575 m\n",
      "\n",
      "Bearing Load:\n",
      "P_b = 1000 kN/m\n",
      "N_b,d = 1425 kN/m\n",
      "M_b,d = 3206 kNm/m\n",
      "N_b,k = 500 kN/m\n",
      "M_b,k = 1125 kNm/m\n",
      "x_b = 2.25 m\n"
     ]
    }
   ],
   "source": [
    "# Load computations\n",
    "\n",
    "# Wall\n",
    "wall_area = trapz(wall_coord[:,1],wall_coord[:,0])\n",
    "wall_moment = trapz(wall_coord[:,0]*wall_coord[:,1],wall_coord[:,0])\n",
    "W_w = gamma_c * wall_area\n",
    "x_w = wall_moment / wall_area\n",
    "N_w_d = gamma_Gu * W_w\n",
    "M_w_d = gamma_Gu * W_w * x_w\n",
    "N_w_k = gamma_Gf * W_w\n",
    "M_w_k = gamma_Gf * W_w * x_w\n",
    "\n",
    "# Toe Fill\n",
    "toefill_area = trapz(toefill_coord[:,1],toefill_coord[:,0])\n",
    "toefill_moment = trapz(toefill_coord[:,0]*toefill_coord[:,1],toefill_coord[:,0])\n",
    "W_tf = gamma_f * toefill_area\n",
    "x_tf = 0 if W_tf==0 else toefill_moment / toefill_area\n",
    "N_tf_d = gamma_Gu * W_tf\n",
    "M_tf_d = gamma_Gu * W_tf * x_tf\n",
    "N_tf_k = gamma_Gf * W_tf\n",
    "M_tf_k = gamma_Gf * W_tf * x_tf\n",
    "\n",
    "# Backfill\n",
    "backfill_area = trapz(backfill_coord[:,1],backfill_coord[:,0])\n",
    "backfill_moment = trapz(backfill_coord[:,0]*backfill_coord[:,1],backfill_coord[:,0])\n",
    "W_bf = gamma_f * backfill_area\n",
    "x_bf = 0 if W_tf==0 else backfill_moment / backfill_area\n",
    "N_bf_d = gamma_Gu * W_bf\n",
    "M_bf_d = gamma_Gu * W_bf * x_bf\n",
    "N_bf_k = gamma_Gf * W_bf\n",
    "M_bf_k = gamma_Gf * W_bf * x_bf\n",
    "\n",
    "# Toe Load\n",
    "F_tl = q_toe * (toeload_coord[1,0] - toeload_coord[0,0])\n",
    "x_tl = 0.5 * (toeload_coord[1,0] + toeload_coord[0,0])\n",
    "N_tl_d = gamma_Qu * F_tl\n",
    "M_tl_d = 0 if F_tl==0 else gamma_Qu * F_tl * x_tl\n",
    "N_tl_k = gamma_Qf * F_tl\n",
    "M_tl_k = 0 if F_tl==0 else gamma_Qf * F_tl * x_tl\n",
    "\n",
    "# Backfill Load\n",
    "F_bl = q_backfill * (backload_coord[1,0] - backload_coord[0,0])\n",
    "x_bl = 0.5 * (backload_coord[1,0] + backload_coord[0,0])\n",
    "N_bl_d = gamma_Qu * F_bl\n",
    "M_bl_d = 0 if F_bl==0 else gamma_Qu * F_bl * x_bl\n",
    "N_bl_k = gamma_Qf * F_bl\n",
    "M_bl_k = 0 if F_bl==0 else gamma_Qf * F_bl * x_bl\n",
    "\n",
    "# Bearing Load\n",
    "P_b = P_bearing\n",
    "x_b = bearing_coord[0]\n",
    "N_b_d = 0.5 * (gamma_Gu + gamma_Qu) * P_b\n",
    "M_b_d = N_b_d * x_b\n",
    "N_b_k = 0.5 * (gamma_Gf + gamma_Qf) * P_b\n",
    "M_b_k = N_b_k * x_b\n",
    "\n",
    "# Print\n",
    "print(\"Wall:\")\n",
    "print(\"W_w = {:.4g} kN/m\".format(W_w))\n",
    "print(\"N_w,d = {:.4g} kN/m\".format(N_w_d))\n",
    "print(\"M_w,d = {:.4g} kNm/m\".format(M_w_d))\n",
    "print(\"N_w,k = {:.4g} kN/m\".format(N_w_k))\n",
    "print(\"M_w,k = {:.4g} kNm/m\".format(M_w_k))\n",
    "print(\"x_w = {:.4g} m\".format(x_w))\n",
    "print(\"\\nToe Fill:\")\n",
    "print(\"W_tf = {:.4g} kN/m\".format(W_tf))\n",
    "print(\"N_tf,d = {:.4g} kN/m\".format(N_tf_d))\n",
    "print(\"M_tf,d = {:.4g} kNm/m\".format(M_tf_d))\n",
    "print(\"N_tf,k = {:.4g} kN/m\".format(N_tf_k))\n",
    "print(\"M_tf,k = {:.4g} kNm/m\".format(M_tf_k))\n",
    "print(\"x_tf = {:.4g} m\".format(x_tf))\n",
    "print(\"\\nBackill:\")\n",
    "print(\"W_bf = {:.4g} kN/m\".format(W_bf))\n",
    "print(\"N_bf,d = {:.4g} kN/m\".format(N_bf_d))\n",
    "print(\"M_bf,d = {:.4g} kNm/m\".format(M_bf_d))\n",
    "print(\"N_bf,k = {:.4g} kN/m\".format(N_bf_k))\n",
    "print(\"M_bf,k = {:.4g} kNm/m\".format(M_bf_k))\n",
    "print(\"x_bf = {:.4g} m\".format(x_bf))\n",
    "print(\"\\nToe Load:\")\n",
    "print(\"F_tl = {:.4g} kN/m\".format(F_tl))\n",
    "print(\"N_tl,d = {:.4g} kN/m\".format(N_tl_d))\n",
    "print(\"M_tl,d = {:.4g} kNm/m\".format(M_tl_d))\n",
    "print(\"N_tl,k = {:.4g} kN/m\".format(N_tl_k))\n",
    "print(\"M_tl,k = {:.4g} kNm/m\".format(M_tl_k))\n",
    "print(\"x_tl = {:.4g} m\".format(x_tl))\n",
    "print(\"\\nBackfill Load:\")\n",
    "print(\"F_bl = {:.4g} kN/m\".format(F_bl))\n",
    "print(\"N_bl,d = {:.4g} kN/m\".format(N_bl_d))\n",
    "print(\"M_bl,d = {:.4g} kNm/m\".format(M_bl_d))\n",
    "print(\"N_bl,k = {:.4g} kN/m\".format(N_bl_k))\n",
    "print(\"M_bl,k = {:.4g} kNm/m\".format(M_bl_k))\n",
    "print(\"x_bl = {:.4g} m\".format(x_bl))\n",
    "print(\"\\nBearing Load:\")\n",
    "print(\"P_b = {:.4g} kN/m\".format(P_b))\n",
    "print(\"N_b,d = {:.4g} kN/m\".format(N_b_d))\n",
    "print(\"M_b,d = {:.4g} kNm/m\".format(M_b_d))\n",
    "print(\"N_b,k = {:.4g} kN/m\".format(N_b_k))\n",
    "print(\"M_b,k = {:.4g} kNm/m\".format(M_b_k))\n",
    "print(\"x_b = {:.4g} m\".format(x_b))"
   ]
  },
  {
   "cell_type": "markdown",
   "metadata": {},
   "source": [
    "## Soil Parameters"
   ]
  },
  {
   "cell_type": "code",
   "execution_count": 8,
   "metadata": {},
   "outputs": [],
   "source": [
    "# Fill\n",
    "phi_f = 32\n",
    "coh_f = 0\n",
    "delta_f = 0"
   ]
  },
  {
   "cell_type": "code",
   "execution_count": 9,
   "metadata": {},
   "outputs": [],
   "source": [
    "# Subsoil\n",
    "gamma_s = 20\n",
    "phi_s = 0\n",
    "coh_s = 165\n",
    "delta_s = 30"
   ]
  },
  {
   "cell_type": "markdown",
   "metadata": {},
   "source": [
    "## Earth Pressures"
   ]
  },
  {
   "cell_type": "code",
   "execution_count": 10,
   "metadata": {},
   "outputs": [
    {
     "name": "stdout",
     "output_type": "stream",
     "text": [
      "Active Pressures:\n",
      "Input parameters:\n",
      "phi = 32 deg\n",
      "c = 0 kPa\n",
      "a = 0 kPa\n",
      "delta = 0 deg\n",
      "beta = 0 deg\n",
      "theta = 0 deg\n",
      "p = 5 kPa\n",
      "\n",
      "Boundary conditions:\n",
      "mw = 61 deg\n",
      "v = 0 deg\n",
      "mt = 61 deg\n",
      "\n",
      "Coefficients:\n",
      "Kn = 0.3073\n",
      "Kq = 0.3073\n",
      "Kc = 1.109\n",
      "Kg = 0.3073\n",
      "\n",
      "Results (factored):\n",
      "E_a,d = 236.5 kN/m\n",
      "H_a,d = 236.5 kN/m\n",
      "N_a,d = 0 kN/m\n",
      "\n",
      "M_ah,d = 574.1 kNm/m\n",
      "M_av,d = 0 kNm/m\n",
      "M_a,d = 574.1 kNm/m\n",
      "\n",
      "y_a = 2.428 m\n"
     ]
    }
   ],
   "source": [
    "# Active Earth Pressures\n",
    "print(\"Active Pressures:\")\n",
    "Ka = pyec7.earth_pressures( friction=phi_f, cohesion=coh_f,\n",
    "    delta=delta_f, beta=backfill_inclination, theta=stemwall_inclination_rear, active=True,\n",
    "    surcharge=q_backfill, inclination=0,\n",
    "    log=True )\n",
    "\n",
    "# Coefficient Override\n",
    "Kag = 0.365\n",
    "Ka = (Kag, Kag, 2*np.sqrt(Kag), Kag)\n",
    "\n",
    "# Forces & Moments\n",
    "E_aq = Ka[1] * q_backfill * backfill_height\n",
    "y_aq = backfill_height / 2\n",
    "E_ac = Ka[2] * coh_f * (backfill_height - Ka[2] * coh_f / Ka[3] / gamma_f)\n",
    "y_ac = (backfill_height - Ka[2] * coh_f / Ka[3] / gamma_f) / 2\n",
    "E_ag = Ka[3] * 0.5 * gamma_f * backfill_height**2\n",
    "y_ag = backfill_height / 3\n",
    "\n",
    "# Total Forces\n",
    "cos_a = np.cos(np.deg2rad(backfill_inclination + stemwall_inclination_rear + delta_f))\n",
    "sin_a = np.sin(np.deg2rad(backfill_inclination + stemwall_inclination_rear + delta_f))\n",
    "E_a_d = gamma_Gu * (E_ac + E_ag) + gamma_Qu * E_aq\n",
    "H_a_d = E_a_d * cos_a\n",
    "N_a_d = E_a_d * sin_a\n",
    "M_ah_d = (gamma_Gu * (E_ac * y_ac + E_ag * y_ag) + gamma_Qu * E_aq * y_aq) * cos_a\n",
    "M_av_d = (gamma_Gu * (E_ac + E_ag) + gamma_Qu * E_aq) * sin_a * footing_width #why not f?\n",
    "M_a_d = M_ah_d - M_av_d\n",
    "y_a = M_ah_d / H_a_d\n",
    "\n",
    "# Print Results\n",
    "print(\"\\nResults (factored):\")\n",
    "print(\"E_a,d =\", f\"{E_a_d:.4g}\", \"kN/m\")\n",
    "print(\"H_a,d =\", f\"{H_a_d:.4g}\", \"kN/m\")\n",
    "print(\"N_a,d =\", f\"{N_a_d:.4g}\", \"kN/m\")\n",
    "print(\"\\nM_ah,d =\", f\"{M_ah_d:.4g}\", \"kNm/m\")\n",
    "print(\"M_av,d =\", f\"{M_av_d:.4g}\", \"kNm/m\")\n",
    "print(\"M_a,d =\", f\"{M_a_d:.4g}\", \"kNm/m\")\n",
    "print(\"\\ny_a =\", f\"{y_a:.4g}\", \"m\")"
   ]
  },
  {
   "cell_type": "code",
   "execution_count": 11,
   "metadata": {},
   "outputs": [
    {
     "name": "stdout",
     "output_type": "stream",
     "text": [
      "Passive Pressures:\n",
      "Input parameters:\n",
      "phi = 32 deg\n",
      "c = 0 kPa\n",
      "a = 0 kPa\n",
      "delta = 0 deg\n",
      "beta = 0 deg\n",
      "theta = 0 deg\n",
      "p = 2 kPa\n",
      "\n",
      "Boundary conditions:\n",
      "mw = 29 deg\n",
      "v = 0 deg\n",
      "mt = 29 deg\n",
      "\n",
      "Coefficients:\n",
      "Kn = 3.255\n",
      "Kq = 3.255\n",
      "Kc = 3.608\n",
      "Kg = 3.255\n",
      "\n",
      "Results (factored):\n",
      "E_p,d = 13.14 kN/m\n",
      "H_p,d = 13.14 kN/m\n",
      "N_p,d = 0 kN/m\n",
      "\n",
      "M_p,d = 8.76 kNm/m\n",
      "\n",
      "y_p = 0.6667 m\n"
     ]
    }
   ],
   "source": [
    "# Passive Earth Pressures\n",
    "print(\"Passive Pressures:\")\n",
    "Kp = pyec7.earth_pressures( friction=phi_f, cohesion=coh_f,\n",
    "    delta=delta_f, beta=toefill_inclination, theta=stemwall_inclination_front, active=False,\n",
    "    surcharge=q_toe, inclination=0,\n",
    "    log=True )\n",
    "\n",
    "# Forces & Moments\n",
    "E_pq = Ka[1] * q_toe * toefill_height\n",
    "y_pq = toefill_height / 2\n",
    "E_pc = Ka[2] * coh_f * (toefill_height - Kp[2] * coh_f / Kp[3] / gamma_f)\n",
    "y_pc = (toefill_height - Kp[2] * coh_f / Kp[3] / gamma_f) / 2\n",
    "E_pg = Ka[3] * 0.5 * gamma_f * toefill_height**2\n",
    "y_pg = toefill_height / 3\n",
    "\n",
    "# Total Forces\n",
    "cos_p = np.cos(np.deg2rad(toefill_inclination + stemwall_inclination_front - delta_f))\n",
    "sin_p = np.sin(np.deg2rad(toefill_inclination + stemwall_inclination_front - delta_f))\n",
    "E_p_d = gamma_Gf * (E_pc + E_pg) + gamma_Qf * E_pq\n",
    "H_p_d = E_p_d * cos_p\n",
    "N_p_d = E_p_d * sin_p\n",
    "M_p_d = (gamma_Gf * (E_pc * y_pc + E_pg * y_pg) + gamma_Qf * E_pq * y_pq) * cos_p\n",
    "y_p = M_p_d / H_p_d\n",
    "\n",
    "# Print Results\n",
    "print(\"\\nResults (factored):\")\n",
    "print(\"E_p,d =\", f\"{E_p_d:.4g}\", \"kN/m\")\n",
    "print(\"H_p,d =\", f\"{H_p_d:.4g}\", \"kN/m\")\n",
    "print(\"N_p,d =\", f\"{N_p_d:.4g}\", \"kN/m\")\n",
    "print(\"\\nM_p,d =\", f\"{M_p_d:.4g}\", \"kNm/m\")\n",
    "print(\"\\ny_p =\", f\"{y_p:.4g}\", \"m\")"
   ]
  },
  {
   "cell_type": "markdown",
   "metadata": {},
   "source": [
    "## Bearing Resistance"
   ]
  },
  {
   "cell_type": "code",
   "execution_count": 12,
   "metadata": {},
   "outputs": [
    {
     "name": "stdout",
     "output_type": "stream",
     "text": [
      "Total Loads:\n",
      "N_d = 2216.80 kN/m\n",
      "H_d = 223.33 kN/m\n",
      "M_d = 262.79 kNm/m\n"
     ]
    }
   ],
   "source": [
    "# Total Load Computations\n",
    "\n",
    "# Vertical\n",
    "N_d = N_w_d + N_bf_d + N_bl_d + N_tf_d + N_tl_d + N_b_d + N_a_d - N_p_d\n",
    "\n",
    "# Horizontal\n",
    "H_d = H_a_d - H_p_d\n",
    "\n",
    "# Moment (toe)\n",
    "M_d1 = M_a_d - M_p_d\n",
    "M_d2t = M_w_d + M_bf_d + M_bl_d + M_tf_d + M_tl_d + M_b_d\n",
    "x_d2t = M_d2t / N_d\n",
    "x_d2 = np.abs(footing_width/2 - x_d2t)\n",
    "M_d2 = N_d * x_d2\n",
    "M_d = M_d1 - M_d2\n",
    "\n",
    "print(\"Total Loads:\")\n",
    "print(f\"N_d = {N_d:.2f} kN/m\")\n",
    "print(f\"H_d = {H_d:.2f} kN/m\")\n",
    "print(f\"M_d = {M_d:.2f} kNm/m\")"
   ]
  },
  {
   "cell_type": "code",
   "execution_count": 13,
   "metadata": {},
   "outputs": [
    {
     "name": "stdout",
     "output_type": "stream",
     "text": [
      "Geometry:\n",
      "B = 5.5 m\n",
      "L = 0 m\n",
      "D = 2 m\n",
      "a = 0 deg\n",
      "\n",
      "Soil Properties:\n",
      "gamma = 20 kN/m3\n",
      "phi = 0 deg\n",
      "c = 165 kPa\n",
      "\n",
      "Loading:\n",
      "V = 2217 kN\n",
      "HB = 223.3 kN\n",
      "HL = 0 kN\n",
      "H = 223.3 kN\n",
      "MB = 262.8 kNm\n",
      "ML = 0 kNm\n",
      "q = 42 kPa\n",
      "\n",
      "Effective Dimensions:\n",
      "eB = 0.1185 m\n",
      "eL = 0 m\n",
      "Be = 5.263 m\n",
      "Le = 0 m\n",
      "Ae = 5.263 m2\n",
      "\n",
      "Bearing Capacity Factors:\n",
      "Nq = 1\n",
      "Nc = 5.142\n",
      "Ng = -0\n",
      "\n",
      "Inclination Factors:\n",
      "bq = 1\n",
      "bc = 1\n",
      "bg = 1\n",
      "\n",
      "Shape Factors:\n",
      "sq = 1\n",
      "sc = 1\n",
      "sg = 1\n",
      "\n",
      "Load Inclination Factors:\n",
      "iq = 1\n",
      "ic = 0.9309\n",
      "ig = 1\n",
      "\n",
      "Results:\n",
      "qu = 831.8 kPa\n",
      "R = 4378 kN\n"
     ]
    }
   ],
   "source": [
    "# Bearing capacity computations\n",
    "R = pyec7.bearing_resistance( width=footing_width, length=0,\n",
    "    embedment=toefill_height, inclination=0,\n",
    "    unit_weight=gamma_s, friction=phi_s, cohesion=coh_s,\n",
    "    vertical=N_d,\n",
    "    horizontal=H_d, moment=M_d,\n",
    "    surcharge=q_toe,\n",
    "    log=True,)"
   ]
  },
  {
   "cell_type": "markdown",
   "metadata": {},
   "source": [
    "# Design"
   ]
  },
  {
   "cell_type": "code",
   "execution_count": 14,
   "metadata": {},
   "outputs": [
    {
     "name": "stdout",
     "output_type": "stream",
     "text": [
      "FS_h = R_h,d / H_d =  300.5 / 223.3 = 1.346\n"
     ]
    }
   ],
   "source": [
    "# Sliding\n",
    "N_k = N_w_k + N_bf_k + N_bl_k + N_tf_k + N_tl_k\n",
    "R_h_d = N_k * np.tan(np.deg2rad(delta_s)) / gamma_Rh\n",
    "FS_h = R_h_d / H_d\n",
    "print(\"FS_h = R_h,d / H_d = \", f\"{R_h_d:.4g}\", \"/\", f\"{H_d:.4g}\", \"=\", f\"{FS_h:.4g}\")"
   ]
  },
  {
   "cell_type": "code",
   "execution_count": 15,
   "metadata": {},
   "outputs": [
    {
     "name": "stdout",
     "output_type": "stream",
     "text": [
      "FS_v = R_v,d / N_d =  3127 / 2217 = 1.411\n"
     ]
    }
   ],
   "source": [
    "# Bearing Capacity\n",
    "R_v_d = R / gamma_Rv\n",
    "FS_v = R_v_d / N_d\n",
    "print(\"FS_v = R_v,d / N_d = \", f\"{R_v_d:.4g}\", \"/\", f\"{N_d:.4g}\", \"=\", f\"{FS_v:.4g}\")"
   ]
  },
  {
   "cell_type": "markdown",
   "metadata": {},
   "source": [
    "## Stiffness"
   ]
  },
  {
   "cell_type": "code",
   "execution_count": 16,
   "metadata": {},
   "outputs": [
    {
     "name": "stdout",
     "output_type": "stream",
     "text": [
      "Soil Properties:\n",
      "su = 165 kPa\n",
      "Gmax = 2.475e+05 kPa\n",
      "G = 1.65e+05 kPa\n",
      "Vs = 284.5 m/s\n",
      "nu = 0.45\n"
     ]
    }
   ],
   "source": [
    "# Soil Properties\n",
    "su = coh_s\n",
    "Gmax = 1500 * su\n",
    "G = (2/3) * Gmax\n",
    "g = 9.81\n",
    "rho = gamma_s/g\n",
    "Vs = np.sqrt(G/rho)\n",
    "nu = 0.45\n",
    "\n",
    "# Print Soil Properties\n",
    "print(\"Soil Properties:\")\n",
    "print(\"su = {:.4g}\".format(su), \"kPa\")\n",
    "print(\"Gmax = {:.4g}\".format(Gmax), \"kPa\")\n",
    "print(\"G = {:.4g}\".format(G), \"kPa\")\n",
    "print(\"Vs = {:.4g}\".format(Vs), \"m/s\")\n",
    "print(\"nu = {:.4g}\".format(nu))"
   ]
  },
  {
   "cell_type": "code",
   "execution_count": 17,
   "metadata": {},
   "outputs": [
    {
     "name": "stdout",
     "output_type": "stream",
     "text": [
      "\n",
      "Footing Properties:\n",
      "B = 2.75 m\n",
      "D = 2 m\n",
      "d = 1.5 m\n"
     ]
    }
   ],
   "source": [
    "# Footing Properties\n",
    "B = 0.5 * footing_width\n",
    "D = toefill_height\n",
    "d = toe_thickness\n",
    "\n",
    "# Print footing properties\n",
    "print(\"\\nFooting Properties:\")\n",
    "print(\"B = {:.4g}\".format(B), \"m\")\n",
    "print(\"D = {:.4g}\".format(D), \"m\")\n",
    "print(\"d = {:.4g}\".format(d), \"m\")"
   ]
  },
  {
   "cell_type": "code",
   "execution_count": 18,
   "metadata": {},
   "outputs": [
    {
     "name": "stdout",
     "output_type": "stream",
     "text": [
      "\n",
      "Vibration Frequency:\n",
      "f = 0 Hz\n",
      "ao = 0\n"
     ]
    }
   ],
   "source": [
    "# Frequency\n",
    "f = 0\n",
    "omega = 2 * np.pi * f\n",
    "ao = omega*B/Vs\n",
    "\n",
    "# Print frequency\n",
    "print(\"\\nVibration Frequency:\")\n",
    "print(\"f = {:.4g}\".format(f), \"Hz\")\n",
    "print(\"ao = {:.4g}\".format(ao))"
   ]
  },
  {
   "cell_type": "code",
   "execution_count": 19,
   "metadata": {},
   "outputs": [
    {
     "name": "stdout",
     "output_type": "stream",
     "text": [
      "Rotational Stiffness:\n",
      "Krx_surf =  3.564e+06 kNm/m/rad\n",
      "krx_embed =  1.687\n",
      "krx_dyn =  1\n",
      "Krx_dyn =  6.013e+06 kNm/m/rad\n"
     ]
    }
   ],
   "source": [
    "# Rotational Stiffness\n",
    "\n",
    "# Surface\n",
    "Krx_surf = (np.pi/2) * G*B**2 / (1-nu) # Gazetas (1991) - Table 15.3\n",
    "# The above coefficient is 1.57, compared to 1.49 in Table 15.1, and 1.60 in Pais & Kausel (1988)\n",
    "\n",
    "# Embedment Depth Correction Factor\n",
    "krx_embed = 1 + 1.26 * d/B # Gazertas (1991) - Table 15.2\n",
    "# The above coefficient in Pais & Kausel (1988) is 1.0, but D/B is used.\n",
    "\n",
    "# Dynamic Stiffness Coefficient\n",
    "krx_dyn = 1-0.2*ao # Gazetas (1991) - Table 15.1\n",
    "\n",
    "# Dynamic Stiffness\n",
    "Krx_dyn = krx_embed * krx_dyn * Krx_surf\n",
    "\n",
    "# Print\n",
    "print(\"Rotational Stiffness:\")\n",
    "print(\"Krx_surf = \", f\"{Krx_surf:.4g}\", \"kNm/m/rad\")\n",
    "print(\"krx_embed = \", f\"{krx_embed:.4g}\")\n",
    "print(\"krx_dyn = \", f\"{krx_dyn:.4g}\")\n",
    "print(\"Krx_dyn = \", f\"{Krx_dyn:.4g}\", \"kNm/m/rad\")"
   ]
  }
 ],
 "metadata": {
  "kernelspec": {
   "display_name": "base",
   "language": "python",
   "name": "python3"
  },
  "language_info": {
   "codemirror_mode": {
    "name": "ipython",
    "version": 3
   },
   "file_extension": ".py",
   "mimetype": "text/x-python",
   "name": "python",
   "nbconvert_exporter": "python",
   "pygments_lexer": "ipython3",
   "version": "3.10.9"
  }
 },
 "nbformat": 4,
 "nbformat_minor": 2
}
