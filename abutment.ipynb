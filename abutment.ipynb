{
 "cells": [
  {
   "cell_type": "code",
   "execution_count": 17,
   "metadata": {},
   "outputs": [
    {
     "name": "stdout",
     "output_type": "stream",
     "text": [
      "The autoreload extension is already loaded. To reload it, use:\n",
      "  %reload_ext autoreload\n"
     ]
    }
   ],
   "source": [
    "%load_ext autoreload\n",
    "%autoreload 2\n",
    "import pyec7"
   ]
  },
  {
   "cell_type": "code",
   "execution_count": 20,
   "metadata": {},
   "outputs": [
    {
     "name": "stdout",
     "output_type": "stream",
     "text": [
      "Geometry:\n",
      "B = 1 m\n",
      "L = 0 m\n",
      "D = 0 m\n",
      "a = 0 deg\n",
      "\n",
      "Soil Properties:\n",
      "gamma = 20 kN/m3\n",
      "phi = 30 deg\n",
      "c = 10 kPa\n",
      "\n",
      "Loading:\n",
      "V = None kN\n",
      "HB = 0 kN\n",
      "HL = 0 kN\n",
      "H = 0 kN\n",
      "MB = 0 kNm\n",
      "ML = 0 kNm\n",
      "q = 0 kPa\n",
      "\n",
      "Effective Dimensions:\n",
      "eB = 0 m\n",
      "eL = 0 m\n",
      "Be = 1 m\n",
      "Le = 0 m\n",
      "Ae = 1 m2\n",
      "\n",
      "Bearing Capacity Factors:\n",
      "Nq = 18.401122218708668\n",
      "Nc = 30.139627791519086\n",
      "Ng = 20.093085194346052\n",
      "\n",
      "Inclination Factors:\n",
      "bq = 1.0\n",
      "bc = 1.0\n",
      "bg = 1.0\n",
      "\n",
      "Shape Factors:\n",
      "sq = 1\n",
      "sc = 1\n",
      "sg = 1\n",
      "\n",
      "Load Inclination Factors:\n",
      "iq = 1\n",
      "ic = 1\n",
      "ig = 1\n",
      "\n",
      "Results:\n",
      "qu = 502.3271298586514 kPa\n",
      "R = 502.3271298586514 kN\n"
     ]
    },
    {
     "data": {
      "text/plain": [
       "502.3271298586514"
      ]
     },
     "execution_count": 20,
     "metadata": {},
     "output_type": "execute_result"
    }
   ],
   "source": [
    "pyec7.bearing_resistance(width=1,log=True)"
   ]
  },
  {
   "cell_type": "code",
   "execution_count": 21,
   "metadata": {},
   "outputs": [
    {
     "name": "stdout",
     "output_type": "stream",
     "text": [
      "Input parameters:\n",
      "phi = 30 deg\n",
      "c = -10 kPa\n",
      "delta = 0 deg\n",
      "beta = 0 deg\n",
      "theta = 0 deg\n",
      "q = 0 kPa\n",
      "p = 0.0 kPa\n",
      "\n",
      "Boundary conditions:\n",
      "mw = 59.99999999999999 deg\n",
      "v = 0.0 deg\n",
      "mt = 59.99999999999999 deg\n",
      "\n",
      "Coefficients:\n",
      "Kn = 0.3333333333333333\n",
      "Kq = 0.3333333333333333\n",
      "Kc = 1.1547005383792517\n",
      "Kg = 0.3333333333333333\n"
     ]
    },
    {
     "data": {
      "text/plain": [
       "(0.3333333333333333,\n",
       " 0.3333333333333333,\n",
       " 1.1547005383792517,\n",
       " 0.3333333333333333)"
      ]
     },
     "execution_count": 21,
     "metadata": {},
     "output_type": "execute_result"
    }
   ],
   "source": [
    "pyec7.earth_pressures(active=True,log=True)"
   ]
  },
  {
   "cell_type": "code",
   "execution_count": null,
   "metadata": {},
   "outputs": [],
   "source": []
  }
 ],
 "metadata": {
  "kernelspec": {
   "display_name": "base",
   "language": "python",
   "name": "python3"
  },
  "language_info": {
   "codemirror_mode": {
    "name": "ipython",
    "version": 3
   },
   "file_extension": ".py",
   "mimetype": "text/x-python",
   "name": "python",
   "nbconvert_exporter": "python",
   "pygments_lexer": "ipython3",
   "version": "3.10.9"
  }
 },
 "nbformat": 4,
 "nbformat_minor": 2
}
